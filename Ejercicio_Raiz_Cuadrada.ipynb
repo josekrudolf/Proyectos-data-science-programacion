{
  "nbformat": 4,
  "nbformat_minor": 0,
  "metadata": {
    "colab": {
      "provenance": []
    },
    "kernelspec": {
      "name": "python3",
      "display_name": "Python 3"
    },
    "language_info": {
      "name": "python"
    }
  },
  "cells": [
    {
      "cell_type": "code",
      "source": [
        "# ----------------------------------------------------------------------------------------\n",
        "# PROGRAMA: <<nombre del programa>>\n",
        "# ----------------------------------------------------------------------------------------\n",
        "# Descripción: <<breve descripción>>\n",
        "# el presente codigo se usa para calcular las raices de dos números usando la formula de la ecuación cuadratica\n",
        "# ----------------------------------------------------------------------------------------\n",
        "# Autor: Jose Martinez\n",
        "# Version: 2.0\n",
        "# [27.01.2025]\n",
        "# ----------------------------------------------------------------------------------------\n",
        "# IMPORTAR MODULOS\n",
        "import math   # modulo de python para este ejemplo (se usara para mostrar la fecha)\n",
        "\n",
        "# ----------------------------------------------------------------------------------------\n",
        "# PRE-CONDICIONES\n",
        "# a,b y c son numeros enteros\n",
        "# a != 0\n",
        "# b^2 - 4ac > 0\n",
        "\n",
        "# ----------------------------------------------------------------------------------------\n",
        "# POSTCONDICIONES\n",
        "# los números arrojados por la raiz 1 y 2 son números reales\n",
        "\n",
        "# ----------------------------------------------------------------------------------------\n",
        "# PARAMETROS\n",
        "# ----------------------------------------------------------------------------------------\n",
        "# Solicitar al usuario las variables a,b y c\n",
        "# Comprobar que las precondiciones se cumplen\n",
        "# calcular el descriminante (b^2 - 4ac)\n",
        "# calcular la raíz 1 y 2\n",
        "# mostrar en pantalla las raices 1 y 2\n",
        "# final del algoritmo\n",
        "\n",
        "# <<Escriba desde aqui el código del programa...>>\n",
        "print(\"*** Un programa para mostrar una plantila para la escritura del código *** \")\n",
        "\n",
        "a = 0\n",
        "b = int(input(\"Ingrese el valor de b: \"))\n",
        "c = int(input(\"Ingrese el valor de c: \"))\n",
        "\n",
        "while a == 0:\n",
        "  a = int(input(\"Ingrese un valor para a >0: \"))\n",
        "\n",
        "d = pow(b,2) - 4*(a)*(c) # discriminante\n",
        "\n",
        "while d <= 0:\n",
        "  print(\"El discriminante es menor a cero y no se pueden calculas las raices cambia de numero\")\n",
        "\n",
        "  b = int(input(\"Ingrese el valor de b: \"))\n",
        "  c = int(input(\"Ingrese el valor de c: \"))\n",
        "  d = pow(b,2) - 4*(a)*(c)\n",
        "\n",
        "  print(\"El determinante ahora es mayor a 0, Felicidades!\")\n",
        "\n",
        "raiz_d = math.sqrt(d)\n",
        "raiz_1 = (-b + raiz_d) / (2*a)\n",
        "raiz_2 = (-b - raiz_d) / (2*a)\n",
        "\n",
        "print(f\"la raiz 1 es: {raiz_1}\")\n",
        "print(f\"la raiz 2 es: {raiz_2}\")\n",
        "# ----------------------------------------------------------------------------------------\n",
        "# end.\n",
        "# ----------------------------------------------------------------------------------------"
      ],
      "metadata": {
        "colab": {
          "base_uri": "https://localhost:8080/"
        },
        "id": "lxcpl2c41uIT",
        "outputId": "556a7aa7-93f3-41ba-fa4e-67af8a57116b"
      },
      "execution_count": null,
      "outputs": [
        {
          "output_type": "stream",
          "name": "stdout",
          "text": [
            "*** Un programa para mostrar una plantila para la escritura del código *** \n",
            "Ingrese el valor de b: 5\n",
            "Ingrese el valor de c: 6\n",
            "Ingrese un valor para a >0: 1\n",
            "la raiz 1 es: -2.0\n",
            "la raiz 2 es: -3.0\n"
          ]
        }
      ]
    }
  ]
}