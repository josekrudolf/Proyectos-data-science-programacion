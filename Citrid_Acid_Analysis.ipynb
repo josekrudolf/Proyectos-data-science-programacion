{
  "nbformat": 4,
  "nbformat_minor": 0,
  "metadata": {
    "colab": {
      "private_outputs": true,
      "provenance": []
    },
    "kernelspec": {
      "name": "python3",
      "display_name": "Python 3"
    },
    "language_info": {
      "name": "python"
    }
  },
  "cells": [
    {
      "cell_type": "code",
      "execution_count": null,
      "metadata": {
        "id": "ov8H_roU_bUH"
      },
      "outputs": [],
      "source": [
        "import pandas as pd\n",
        "pd.set_option('display.max_rows', None)\n",
        "import matplotlib.pyplot as plt\n",
        "import seaborn as sns\n",
        "import numpy as np\n",
        "import warnings\n",
        "warnings.simplefilter(action='ignore', category=pd.errors.SettingWithCopyWarning)"
      ]
    },
    {
      "cell_type": "code",
      "source": [
        "from google.colab import files\n",
        "from google.colab import drive\n",
        "drive.mount('/content/drive')"
      ],
      "metadata": {
        "id": "9M8P6CEeCTnc"
      },
      "execution_count": null,
      "outputs": []
    },
    {
      "cell_type": "code",
      "source": [
        "\n",
        "df = pd.read_excel('/content/drive/MyDrive/Colab Notebooks/Import_Export_Citric_Acid_Data.xlsx', sheet_name = 'Raw Data')\n",
        "df.head()"
      ],
      "metadata": {
        "id": "dIwlXzWw_08l"
      },
      "execution_count": null,
      "outputs": []
    },
    {
      "cell_type": "code",
      "source": [
        "df[[\"Quantity\", \"Value\"]] = df[[\"Quantity\", \"Value\"]].astype(float)\n",
        "df.head()"
      ],
      "metadata": {
        "id": "sueWfmFkHdqb"
      },
      "execution_count": null,
      "outputs": []
    },
    {
      "cell_type": "code",
      "source": [
        "# delete ceros from the dataset in columns Quantity and Value\n",
        "df = df.replace(0, np.nan)\n",
        "df = df.dropna(subset=[\"Quantity\", \"Value\"])"
      ],
      "metadata": {
        "id": "Bb5CI0pmI2rf"
      },
      "execution_count": null,
      "outputs": []
    },
    {
      "cell_type": "code",
      "source": [
        "df.columns"
      ],
      "metadata": {
        "id": "jXr9BvLZAUeh"
      },
      "execution_count": null,
      "outputs": []
    },
    {
      "cell_type": "code",
      "source": [
        "df.shape"
      ],
      "metadata": {
        "id": "edF2_EN1CsZ0"
      },
      "execution_count": null,
      "outputs": []
    },
    {
      "cell_type": "code",
      "source": [
        "df.isnull().sum()"
      ],
      "metadata": {
        "id": "QqT_yIfnCuco"
      },
      "execution_count": null,
      "outputs": []
    },
    {
      "cell_type": "code",
      "source": [
        "df.describe()"
      ],
      "metadata": {
        "id": "qyDBG7bsCx3s"
      },
      "execution_count": null,
      "outputs": []
    },
    {
      "cell_type": "markdown",
      "source": [
        "# Market Demand: Which countries are exhibiting high demand for citric acid?"
      ],
      "metadata": {
        "id": "EvCh7JnqC90Z"
      }
    },
    {
      "cell_type": "code",
      "source": [
        "# Market Demand: Which countries are exhibiting high demand for citric acid?\n",
        "df_import = df[df['Trade Direction'] == 'IMPORT']\n",
        "df_import"
      ],
      "metadata": {
        "collapsed": true,
        "id": "q7hlaZyEC_Ju"
      },
      "execution_count": null,
      "outputs": []
    },
    {
      "cell_type": "code",
      "source": [
        "df_import['Buyer Country'].value_counts(sort = True).head(12)"
      ],
      "metadata": {
        "id": "v9aI-EX2DCFX"
      },
      "execution_count": null,
      "outputs": []
    },
    {
      "cell_type": "code",
      "source": [
        "df_3 = df_import['Buyer Country'].value_counts(normalize = True) * 100\n",
        "df_3[df_3.cumsum() <= 90]"
      ],
      "metadata": {
        "id": "caIbBeLCDLWP"
      },
      "execution_count": null,
      "outputs": []
    },
    {
      "cell_type": "code",
      "source": [
        "pd.set_option('display.float_format', '{:,.2f}'.format)\n",
        "df_4 = df_import.groupby('Buyer Country')[['Quantity', 'Value']].sum().sort_values(by='Value', ascending=False)\n",
        "df_4['Cum_Value'] = df_4['Value'].cumsum()\n",
        "df_4['Cum_Quantity'] = df_4['Quantity'].cumsum()\n",
        "df_4"
      ],
      "metadata": {
        "collapsed": true,
        "id": "ezu-0zGGDPxI"
      },
      "execution_count": null,
      "outputs": []
    },
    {
      "cell_type": "markdown",
      "source": [
        "# Competitive Landscape: Who are the major players in these markets and what does their market share look like?"
      ],
      "metadata": {
        "id": "2pEqzfavDnqz"
      }
    },
    {
      "cell_type": "code",
      "source": [
        "# countries with higher number of buy for citrid acid are usa, mexico, india, costa rica and vietnam\n",
        "# countries with higher number of quantity and value citrid acid imported are usa, india, mexico, canada and argentina\n",
        "\n",
        "df_landscape = df_import[['Buyer', 'Buyer Country', 'Trade Direction','Quantity','Value']]\n",
        "df_landscape.head()"
      ],
      "metadata": {
        "id": "nObVRIGkDjzX"
      },
      "execution_count": null,
      "outputs": []
    },
    {
      "cell_type": "code",
      "source": [
        "# 1. group by country and buyer\n",
        "pivot = (\n",
        "    df_landscape\n",
        "    .groupby([\"Buyer Country\", \"Buyer\"], as_index=False)[[\"Quantity\", \"Value\"]]\n",
        "    .sum()\n",
        ")\n",
        "\n",
        "# 2. calculate total by country\n",
        "totales = pivot.groupby(\"Buyer Country\")[[\"Quantity\", \"Value\"]].transform(\"sum\")\n",
        "\n",
        "# 3. market share\n",
        "pivot[\"Market Share (Quantity)\"] = (pivot[\"Quantity\"] / totales[\"Quantity\"] * 100).round(2)\n",
        "pivot[\"Market Share (Value)\"] = (pivot[\"Value\"] / totales[\"Value\"] * 100).round(2)\n",
        "\n",
        "# 4. Order by country y participation (value) Desc\n",
        "pivot = pivot.sort_values(\n",
        "    by=[\"Buyer Country\", \"Market Share (Value)\"],\n",
        "    ascending=[True, False]\n",
        ").reset_index(drop=True)\n",
        "\n",
        "# 5. show all the dataframe\n",
        "pd.set_option(\"display.max_rows\", None)   # muestra todas las filas\n",
        "pd.set_option(\"display.max_columns\", None)  # muestra todas las columnas\n",
        "pd.set_option(\"display.expand_frame_repr\", False)  # evita particionar en bloques\n",
        "\n",
        "pivot\n"
      ],
      "metadata": {
        "collapsed": true,
        "id": "Gf__0kw9Dsja"
      },
      "execution_count": null,
      "outputs": []
    },
    {
      "cell_type": "code",
      "source": [
        "pivot_filtered = pivot[pivot[\"Buyer Country\"].isin([\"UNITED STATES OF AMERICA\", \"INDIA\", 'MEXICO', 'CANADA','ARGENTINA'])]\n",
        "pivot_filtered.loc[:, 'cum_sum_share_units'] = (pivot_filtered.groupby(\"Buyer Country\")[\"Market Share (Quantity)\"].cumsum())\n",
        "pivot_filtered.loc[:, 'cum_sum_share_value'] = (pivot_filtered.groupby(\"Buyer Country\")[\"Market Share (Value)\"].cumsum())\n",
        "pivot_filtered"
      ],
      "metadata": {
        "collapsed": true,
        "id": "htlMivshD5bb"
      },
      "execution_count": null,
      "outputs": []
    },
    {
      "cell_type": "markdown",
      "source": [
        "# Pricing Strategy: What insights does the data provide about average product prices in different markets, and how can we leverage this information to develop competitive pricing strategies?"
      ],
      "metadata": {
        "id": "yWOvYWK7EOcN"
      }
    },
    {
      "cell_type": "code",
      "source": [
        "df_import['Average_price'] = df_import['Value'] / df_import['Quantity']\n",
        "df_import"
      ],
      "metadata": {
        "collapsed": true,
        "id": "8Xtv53aTEPST"
      },
      "execution_count": null,
      "outputs": []
    },
    {
      "cell_type": "code",
      "source": [
        "df_import.groupby('Buyer Country')['Average_price'].mean().sort_values(ascending = False)"
      ],
      "metadata": {
        "collapsed": true,
        "id": "GcD9M_k5EdZH"
      },
      "execution_count": null,
      "outputs": []
    },
    {
      "cell_type": "code",
      "source": [
        "# Calculate unit price and prepare data\n",
        "df = df.copy()\n",
        "\n",
        "# Calculate unit price (Value / Quantity)\n",
        "df[\"Unit Price\"] = df[\"Value\"] / df[\"Quantity\"]\n",
        "df[\"Date\"] = pd.to_datetime(df[\"Date\"])\n",
        "df.head()"
      ],
      "metadata": {
        "id": "nqwnYip6GPPi"
      },
      "execution_count": null,
      "outputs": []
    },
    {
      "cell_type": "code",
      "source": [
        "# General price analysis by buyer country\n",
        "\n",
        "price_by_country = (\n",
        "    df.groupby(\"Buyer Country\")[\"Unit Price\"]\n",
        "    .mean()\n",
        "    .sort_values(ascending=False)\n",
        ")\n",
        "\n",
        "print(price_by_country)"
      ],
      "metadata": {
        "id": "tO4ZsoVhGx1H"
      },
      "execution_count": null,
      "outputs": []
    },
    {
      "cell_type": "code",
      "source": [
        "# Compare suppliers within a specific country\n",
        "\n",
        "price_by_supplier = (\n",
        "    df[df[\"Buyer Country\"] == \"INDIA\"]\n",
        "    .groupby(\"Supplier\")[\"Unit Price\"]\n",
        "    .mean()\n",
        "    .sort_values(ascending=False)\n",
        ")\n",
        "\n",
        "print(price_by_supplier)"
      ],
      "metadata": {
        "collapsed": true,
        "id": "M38-CeTfKuYl"
      },
      "execution_count": null,
      "outputs": []
    },
    {
      "cell_type": "code",
      "source": [
        "# List of Buyer Countries to compare\n",
        "countries = [\"INDIA\", \"UNITED STATES OF AMERICA\", \"MEXICO\", \"CANADA\", \"ARGENTINA\"]\n",
        "\n",
        "plt.figure(figsize=(12, 6))\n",
        "\n",
        "for country in countries:\n",
        "    # Filter by Buyer Country\n",
        "    subset = df[df[\"Buyer Country\"] == country]\n",
        "\n",
        "    # Group by month and calculate average unit price\n",
        "    price_trend = (\n",
        "        subset.groupby(pd.Grouper(key=\"Date\", freq=\"M\"))[\"Unit Price\"]\n",
        "        .mean()\n",
        "    )\n",
        "\n",
        "    # Plot line for each country\n",
        "    plt.plot(price_trend.index, price_trend.values, marker=\"o\", label=country)\n",
        "\n",
        "# Chart details\n",
        "plt.title(\"Monthly Unit Price Evolution by Buyer Country\")\n",
        "plt.xlabel(\"Date\")\n",
        "plt.ylabel(\"Unit Price\")\n",
        "plt.legend(title=\"Buyer Country\")\n",
        "plt.grid(True)\n",
        "plt.tight_layout()\n",
        "plt.show()\n"
      ],
      "metadata": {
        "id": "sgIKooRWLdGB"
      },
      "execution_count": null,
      "outputs": []
    },
    {
      "cell_type": "code",
      "source": [
        "# Buyer benchmark (market share in a country)\n",
        "\n",
        "# List of Buyer Countries to analyze\n",
        "countries = [\"UNITED STATES OF AMERICA\", \"INDIA\", \"MEXICO\", \"CANADA\", \"ARGENTINA\"]\n",
        "\n",
        "for country in countries:\n",
        "    print(f\"\\n--- Market Share of Buyers in {country} ---\\n\")\n",
        "\n",
        "    # Filter by Buyer Country\n",
        "    buyers_share = (\n",
        "        df[df[\"Buyer Country\"].str.upper() == country.upper()]\n",
        "        .groupby(\"Buyer\")[[\"Quantity\", \"Value\"]]\n",
        "        .sum()\n",
        "        .sort_values(\"Value\", ascending=False)\n",
        "    )\n",
        "\n",
        "    # Calculate market share (%)\n",
        "    buyers_share[\"Market Share (Value)\"] = (\n",
        "        buyers_share[\"Value\"] / buyers_share[\"Value\"].sum() * 100\n",
        "    ).round(2)\n",
        "\n",
        "    # Show Top 10 Buyers\n",
        "    print(buyers_share.head(10))\n",
        "\n"
      ],
      "metadata": {
        "id": "gL5R051DM6iT"
      },
      "execution_count": null,
      "outputs": []
    },
    {
      "cell_type": "code",
      "source": [
        "# Countries of interest\n",
        "countries = [\"UNITED STATES OF AMERICA\", \"INDIA\", \"MEXICO\", \"CANADA\", \"ARGENTINA\"]\n",
        "\n",
        "# Filter the DataFrame\n",
        "df_filtered = df[df[\"Buyer Country\"].str.upper().isin([c.upper() for c in countries])]\n",
        "\n",
        "# Plot\n",
        "plt.figure(figsize=(8,5))\n",
        "sns.boxplot(data=df_filtered, x=\"Buyer Country\", y=\"Unit Price\")\n",
        "plt.xticks(rotation=45)\n",
        "plt.title(\"Unit Price Distribution by Buyer Country\")\n",
        "plt.show()\n"
      ],
      "metadata": {
        "id": "TXNBRJDgNlNF"
      },
      "execution_count": null,
      "outputs": []
    }
  ]
}