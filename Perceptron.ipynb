{
  "nbformat": 4,
  "nbformat_minor": 0,
  "metadata": {
    "colab": {
      "private_outputs": true,
      "provenance": []
    },
    "kernelspec": {
      "name": "python3",
      "display_name": "Python 3"
    },
    "language_info": {
      "name": "python"
    }
  },
  "cells": [
    {
      "cell_type": "code",
      "execution_count": null,
      "metadata": {
        "id": "M0UlbS06P_Tb"
      },
      "outputs": [],
      "source": [
        "import numpy as np\n",
        "import matplotlib.pyplot as plt"
      ]
    },
    {
      "cell_type": "code",
      "source": [
        "# datos de 10 personas -> [Edad, Ahorro], cada lista es una fila de tamaño 1x2\n",
        "\n",
        "personas = np.array([[0.3, 0.4], [0.4, 0.3],\n",
        "                    [0.3, 0.2], [0.4, 0.1],\n",
        "                    [0.5, 0.2], [0.4, 0.8],\n",
        "                    [0.6, 0.8], [0.5, 0.6],\n",
        "                    [0.7, 0.6], [0.8, 0.5]])\n",
        "\n",
        "personas"
      ],
      "metadata": {
        "id": "_NcIfEtFUpHk"
      },
      "execution_count": null,
      "outputs": []
    },
    {
      "cell_type": "code",
      "source": [
        "# 1 aprobado, 0 denegado\n",
        "clases = np.array([0, 0, 0, 0, 0, 1, 1, 1, 1, 1])"
      ],
      "metadata": {
        "id": "N3Nev1HRVXpy"
      },
      "execution_count": null,
      "outputs": []
    },
    {
      "cell_type": "code",
      "source": [
        "# Gráfica de dispersión (edad, ahorro), los datos son linealmente separables (se pueden separar por una linea, hay diferentes lineas y soluciones para separar los datos),\n",
        "# si los datos son linealmente separables el perceptron siempre encuentra una linea para hacerlo.\n",
        "\n",
        "plt.figure(figsize=(7, 7))\n",
        "plt.title(\"¿Tarjeta Platinum?\", fontsize=20)\n",
        "plt.scatter(personas[clases == 0].T[0],\n",
        "            personas[clases == 0].T[1],\n",
        "            marker=\"x\", s=180, color=\"red\",\n",
        "            linewidths=5, label=\"Denegada\")\n",
        "plt.scatter(personas[clases == 1].T[0],\n",
        "            personas[clases == 1].T[1],\n",
        "            marker=\"o\", s=180, color=\"blue\",\n",
        "            linewidths=5, label=\"Aprobada\")\n",
        "plt.xlabel(\"Edad\", fontsize=15)\n",
        "plt.ylabel(\"Ahorro\", fontsize=15)\n",
        "plt.legend(bbox_to_anchor=(1.3, 0.15))\n",
        "plt.box(False)\n",
        "plt.xlim((0, 1.01))\n",
        "plt.ylim((0, 1.01))\n",
        "plt.grid()\n",
        "plt.show()"
      ],
      "metadata": {
        "id": "AGuXEyvBV_kt"
      },
      "execution_count": null,
      "outputs": []
    },
    {
      "cell_type": "code",
      "source": [
        "# Función de Activación (Escalón), en base a esto se toman decisiones (aprobado o denegado)\n",
        "# w1*x1 + w2*x2 + ⋯ + wn*xn, b es el sesgo o bias\n",
        "\n",
        "def activacion(pesos, x, b):\n",
        "    z = pesos * x\n",
        "    if z.sum() + b > 0:\n",
        "        return 1\n",
        "    else:\n",
        "        return 0\n",
        "\n",
        "pesos = np.random.uniform(-1, 1, size=2)\n",
        "b = np.random.uniform(-1, 1)\n",
        "\n",
        "pesos, b, activacion(pesos, [0.5, 0.5], b)"
      ],
      "metadata": {
        "id": "NFhlB_6jWecS"
      },
      "execution_count": null,
      "outputs": []
    },
    {
      "cell_type": "code",
      "source": [
        "# Entrenamiento del perceptrón\n",
        "pesos = np.random.uniform(-1, 1, size=2)\n",
        "b = np.random.uniform(-1, 1)\n",
        "tasa_de_aprendizaje = 0.01 # se usa este factor para encontrar los pesos de manera optima\n",
        "epocas = 100 # número de iteraciones que se realizaran, para encontrar los pesos optimizados, también se puede colocar el error minimo, por ejemplo: 0.02 ó 0\n",
        "\n",
        "for epoca in range(epocas):\n",
        "    error_total = 0\n",
        "    for i in range(len(personas)):\n",
        "        prediccion = activacion(pesos, personas[i], b)\n",
        "        error = clases[i] - prediccion\n",
        "        error_total += error**2\n",
        "        pesos[0] += tasa_de_aprendizaje * personas[i][0] * error\n",
        "        pesos[1] += tasa_de_aprendizaje * personas[i][1] * error\n",
        "        b += tasa_de_aprendizaje * error\n",
        "    print(error_total, end=\" \")\n",
        "\n",
        "activacion(pesos, [0.5, 0], b)"
      ],
      "metadata": {
        "id": "Tyl_OFvsWmAX"
      },
      "execution_count": null,
      "outputs": []
    },
    {
      "cell_type": "code",
      "source": [
        "# Zona de aprobación (gráfica de dispersión [edad, ahorro])\n",
        "plt.figure(figsize=(6, 5), dpi=200)\n",
        "plt.title(\"¿Tarjeta Platinum?\", fontsize=20)\n",
        "\n",
        "plt.scatter(personas[clases == 0].T[0],\n",
        "            personas[clases == 0].T[1],\n",
        "            marker=\"x\", s=180, color=\"red\",\n",
        "            linewidths=5, label=\"Denegada\")\n",
        "\n",
        "plt.scatter(personas[clases == 1].T[0],\n",
        "            personas[clases == 1].T[1],\n",
        "            marker=\"o\", s=180, color=\"blue\",\n",
        "            linewidths=5, label=\"Aprobada\")\n",
        "\n",
        "for edad in np.arange(0, 1, 0.05):\n",
        "    for ahorro in np.arange(0, 1, 0.05):\n",
        "        color = activacion(pesos, [edad, ahorro], b)\n",
        "        if color == 1:\n",
        "            plt.scatter(edad, ahorro, marker=\"s\", s=110,\n",
        "                        color=\"blue\", alpha=0.2, linewidths=0)\n",
        "        else:\n",
        "            plt.scatter(edad, ahorro, marker=\"s\", s=110,\n",
        "                        color=\"red\", alpha=0.2, linewidths=0)\n",
        "\n",
        "plt.xlabel(\"Edad\", fontsize=15)\n",
        "plt.ylabel(\"Ahorro\", fontsize=15)\n",
        "plt.legend(bbox_to_anchor=(1.3, 0.15))\n",
        "plt.box(False)\n",
        "plt.xlim((0, 1.01))\n",
        "plt.ylim((0, 1.01))\n",
        "plt.show()"
      ],
      "metadata": {
        "id": "t9R1a_8jWsN6"
      },
      "execution_count": null,
      "outputs": []
    },
    {
      "cell_type": "code",
      "source": [
        "# Perceptrón con Scikit-learn\n",
        "\n",
        "from sklearn.linear_model import Perceptron\n",
        "perceptron = Perceptron().fit(personas, clases)\n",
        "perceptron.predict([[0.2, 0.2], [0.8, 0.8]])"
      ],
      "metadata": {
        "id": "rWwi-yzWW44u"
      },
      "execution_count": null,
      "outputs": []
    }
  ]
}