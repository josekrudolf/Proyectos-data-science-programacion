{
  "nbformat": 4,
  "nbformat_minor": 0,
  "metadata": {
    "colab": {
      "provenance": []
    },
    "kernelspec": {
      "name": "python3",
      "display_name": "Python 3"
    },
    "language_info": {
      "name": "python"
    }
  },
  "cells": [
    {
      "cell_type": "code",
      "execution_count": null,
      "metadata": {
        "colab": {
          "base_uri": "https://localhost:8080/"
        },
        "id": "rrcG2Rvs6Sg-",
        "outputId": "c535eba7-ef56-42ca-b96a-891fc9a7d4e2"
      },
      "outputs": [
        {
          "output_type": "stream",
          "name": "stdout",
          "text": [
            "Ingrese un número: 3\n",
            "el número es primo\n"
          ]
        }
      ],
      "source": [
        "# ingresar un número\n",
        "# si el número es dos es primo\n",
        "# sino evaluar dicho número (divir entre cero == o es primo, sino no lo es)\n",
        "\n",
        "numero = int(input(\"Ingrese un número: \"))\n",
        "\n",
        "if numero == 2:\n",
        "  print(\"el número es primo\")\n",
        "elif numero != 2 and numero % 2 == 0:\n",
        "  print(\"el número no es primo\")\n",
        "else:\n",
        "  print(\"el número es primo\")"
      ]
    },
    {
      "cell_type": "markdown",
      "source": [
        "🔑 El else debe estar al mismo nivel de indentación que el for para que funcione como parte del bucle for en Python. En Python, el else después de un for o while no significa “si no entra al for”, sino más bien:\n",
        "\n",
        "\"Ejecuta esto si el bucle no fue interrumpido con un break\".\n",
        "\n",
        "Pero esto solo funciona si el else está indentado igual que el for, es decir, en la misma estructura del bloque."
      ],
      "metadata": {
        "id": "b0pgM6FUZkUu"
      }
    },
    {
      "cell_type": "code",
      "source": [
        "# El presente codigo se utiliza para decir si un número es o no primo\n",
        "\n",
        "def num_primo():\n",
        "\n",
        "  while True:\n",
        "\n",
        "      try:\n",
        "          numero = int(input(\"Ingrese un número: \"))\n",
        "          if numero <=1:\n",
        "            print(\"el numero ingresado no es valido\")\n",
        "          else:\n",
        "            print(\"El número ingresado es válido, ¡comprobemos si es primo!\")\n",
        "\n",
        "      except ValueError:\n",
        "          print(\"Debe ingresar un número entero válido\")\n",
        "          continue # Se salta el resto del código dentro del while. Vuelve al inicio del bucle (while True:) para pedir el número de nuevo.\n",
        "\n",
        "        # Verificación de número primo\n",
        "      for i in range(2, int(numero ** 0.5) + 1):\n",
        "          if numero % i ==0:\n",
        "            print(\"el número no es primo\")\n",
        "            break # el break hace que se tenga que colocar el else a nivel del for\n",
        "      else:\n",
        "          print(\"el número es primo\")\n",
        "\n",
        "      break\n",
        "\n"
      ],
      "metadata": {
        "collapsed": true,
        "id": "Aed8rSox4Sll"
      },
      "execution_count": null,
      "outputs": []
    },
    {
      "cell_type": "code",
      "source": [
        "num_primo()"
      ],
      "metadata": {
        "colab": {
          "base_uri": "https://localhost:8080/"
        },
        "id": "lN5aDgH6OZIo",
        "outputId": "58c0a432-b059-4667-e741-8ac4fcd5d505"
      },
      "execution_count": null,
      "outputs": [
        {
          "output_type": "stream",
          "name": "stdout",
          "text": [
            "Ingrese un número: 6\n",
            "El número ingresado es válido, ¡comprobemos si es primo!\n",
            "el número no es primo\n"
          ]
        }
      ]
    },
    {
      "cell_type": "code",
      "source": [
        "# El presente codigo se utiliza para decir de que clase es un triangulo, dado el largo de sus lados\n",
        "\n",
        "def triangulo_tipo():\n",
        "\n",
        "  a = int(input('Ingrese el primer lado a: '))\n",
        "  b = int(input('Ingrese el segundo lado b: '))\n",
        "  c = int(input('Ingrese el tercer lado c: '))\n",
        "\n",
        "  # comprobar si es un triangulo\n",
        "  if a > (b+c) or b > (a+c) or c > (a+b):\n",
        "    print('No es un triángulo')\n",
        "\n",
        "  elif a == b and b == c:\n",
        "    print ('Es un triangulo equilatero')\n",
        "\n",
        "  elif (a == b or a==c or c==b) and (a < (b+c) or b < (a+c) or c < (a+b)):\n",
        "    print('Es un triangulo isósceles')\n",
        "\n",
        "  else:\n",
        "    print('Es un triangulo escaleno')"
      ],
      "metadata": {
        "id": "LY6wuUmscsjz"
      },
      "execution_count": null,
      "outputs": []
    },
    {
      "cell_type": "code",
      "source": [
        "triangulo_tipo()"
      ],
      "metadata": {
        "colab": {
          "base_uri": "https://localhost:8080/"
        },
        "id": "XRpk4iDofzL0",
        "outputId": "da7708a9-8f55-4023-894e-7dfd2243bc52"
      },
      "execution_count": null,
      "outputs": [
        {
          "output_type": "stream",
          "name": "stdout",
          "text": [
            "Ingrese el primer lado a: 6\n",
            "Ingrese el segundo lado b: 7\n",
            "Ingrese el tercer lado c: 8\n",
            "Es un triangulo escaleno\n"
          ]
        }
      ]
    },
    {
      "cell_type": "markdown",
      "source": [
        "El capitán de un barco quería recompensar a sus hombres de mar y para ello les dio un cierto número de monedas\n",
        "de oro. La suma total de monedas que poseía el capitán era superior a 200 y no llegaba a 300.\n",
        "Las monedas fueron colocadas en una caja para ser repartidas al día siguiente. No obstante, durante la noche uno\n",
        "de los marineros fue donde se hallaba el dinero, lo dividió en tres partes iguales y notó que la división no era\n",
        "exacta y que sobraba una moneda. La moneda sobrante la tiro al mar y se llevó una tercera parte. Posteriormente\n",
        "el segundo marino tuvo la misma idea, dividió en tres partes el botín que quedaba y también le sobró una moneda\n",
        "al hacer la división, la cual fue arrojada al mar. Luego vino el tercer marino y realizó la misma operación de los\n",
        "dos anteriores. Al día siguiente, el capitán dividió el botín que habían dejado sus marineros y lo repartió en tres\n",
        "partes iguales y le sobró una moneda la cual tomó para él.\n",
        "Realice un programa que determine cuantas monedas había al inicio de la historia y cuanto recibió cada uno de\n",
        "los marineros.\n"
      ],
      "metadata": {
        "id": "vtZKRocj9Lew"
      }
    },
    {
      "cell_type": "code",
      "source": [
        "# monto_total = > 200 y no es 300\n",
        "# marino_1_monto = (monto_total/3)-1\n",
        "# marino_1_monto_cogido = 1/3 marino_1_monto\n",
        "\n",
        "# monto_total = monto_total - marino_1_monto_cogido\n",
        "# marino_2_monto = (monto_total/3) -1\n",
        "# marino_2_monto_cogido = 1/3 marino_2_monto\n",
        "\n",
        "# monto_total = monto_total - arino_2_monto_cogido\n",
        "# marino_3_monto = (monto_total/3)-1\n",
        "# marino_3_monto_cogido = 1/3 marino_3_monto\n",
        "\n",
        "# Monto = Monto inicial-1/3\n",
        "# Marino 1 = Marino 1 + Monto\n",
        "# Marino 2 = Marino 2 + Monto\n",
        "# Marino 3 = Marino 3 + Monto\n",
        "# capitan = 1 moneda\n",
        "\n",
        "print(\"Ejercicio Marineros\")\n",
        "\n",
        "for botin_total in range(201,300):\n",
        "\n",
        "  monto_inicial = botin_total\n",
        "  if (monto_inicial%3==1):\n",
        "    monto_inicial = botin_total - 1\n",
        "    marino_1_monto = (monto_inicial)/3\n",
        "    monto_inicial = monto_inicial - marino_1_monto\n",
        "\n",
        "    if (monto_inicial%3 ==1):\n",
        "      monto_inicial = monto_inicial - 1\n",
        "      marino_2_monto = (monto_inicial)/3\n",
        "      monto_inicial = monto_inicial - marino_2_monto\n",
        "\n",
        "      if (monto_inicial%3 ==1):\n",
        "        monto_inicial = monto_inicial - 1\n",
        "        marino_3_monto = (monto_inicial)/3\n",
        "        monto_inicial = monto_inicial - marino_3_monto\n",
        "\n",
        "        if (monto_inicial%3 ==1):\n",
        "          monto = monto_inicial - 1\n",
        "          monto = monto/3\n",
        "          marino_1_monto = marino_1_monto + monto\n",
        "          marino_2_monto = marino_2_monto + monto\n",
        "          marino_3_monto = marino_3_monto + monto\n",
        "\n",
        "          print(\"El Botín total fue: \",botin_total)\n",
        "          print(\"Lo que recibió el Marino 1 fue: \",marino_1_monto)\n",
        "          print(\"Lo que recibió el Marino 2 fue: \",marino_2_monto)\n",
        "          print(\"Lo que recibió el Marino 3 fue: \",marino_3_monto)\n",
        "\n",
        "\n"
      ],
      "metadata": {
        "colab": {
          "base_uri": "https://localhost:8080/"
        },
        "id": "1R1-GKkdgHLU",
        "outputId": "4ebc3524-653b-4205-b094-6502d11d9460"
      },
      "execution_count": null,
      "outputs": [
        {
          "output_type": "stream",
          "name": "stdout",
          "text": [
            "Ejercicio Marineros\n",
            "El Botín total fue:  241\n",
            "Lo que recibió el Marino 1 fue:  103.0\n",
            "Lo que recibió el Marino 2 fue:  76.0\n",
            "Lo que recibió el Marino 3 fue:  58.0\n"
          ]
        }
      ]
    }
  ]
}